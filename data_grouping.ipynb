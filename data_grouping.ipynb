{
 "cells": [
  {
   "cell_type": "code",
   "execution_count": null,
   "metadata": {},
   "outputs": [],
   "source": [
    "import pandas as pd\n",
    "\n",
    "# Write the data from CSV to Notebook\n",
    "df = pd.read_csv('troop_movements.csv')\n",
    "\n"
   ]
  },
  {
   "cell_type": "code",
   "execution_count": 7,
   "metadata": {},
   "outputs": [
    {
     "data": {
      "text/plain": [
       "empire_or_resistance\n",
       "resistance    502\n",
       "empire        498\n",
       "Name: count, dtype: int64"
      ]
     },
     "execution_count": 7,
     "metadata": {},
     "output_type": "execute_result"
    }
   ],
   "source": [
    "df['empire_or_resistance'].value_counts()"
   ]
  },
  {
   "cell_type": "code",
   "execution_count": 6,
   "metadata": {},
   "outputs": [
    {
     "data": {
      "text/plain": [
       "homeworld\n",
       "Muunilinst      36\n",
       "Umbara          33\n",
       "Cerea           33\n",
       "Quermia         30\n",
       "Rodia           29\n",
       "Sullust         29\n",
       "Kashyyyk        28\n",
       "Naboo           28\n",
       "Stewjon         27\n",
       "Tatooine        27\n",
       "Glee Anselm     27\n",
       "Tholoth         26\n",
       "Trandosha       26\n",
       "Dagobah         26\n",
       "Serenno         26\n",
       "Chandrila       26\n",
       "Iridonia        26\n",
       "Dathomir        26\n",
       "Zolan           25\n",
       "Vulpter         24\n",
       "Kalee           24\n",
       "Concord Dawn    24\n",
       "Bestine IV      24\n",
       "Mon Cala        24\n",
       "Haruun Kal      24\n",
       "Dorin           23\n",
       "Troiken         22\n",
       "Skako           22\n",
       "Tund            22\n",
       "Alderaan        21\n",
       "Aleen Minor     21\n",
       "Toydaria        21\n",
       "Socorro         20\n",
       "Iktotch         20\n",
       "Malastare       20\n",
       "Mirial          19\n",
       "Ojom            18\n",
       "Corellia        18\n",
       "Ryloth          17\n",
       "Shili           14\n",
       "Champala        12\n",
       "Eriadu          12\n",
       "Name: count, dtype: int64"
      ]
     },
     "execution_count": 6,
     "metadata": {},
     "output_type": "execute_result"
    }
   ],
   "source": [
    "df['homeworld'].value_counts()"
   ]
  },
  {
   "cell_type": "code",
   "execution_count": null,
   "metadata": {},
   "outputs": [],
   "source": []
  }
 ],
 "metadata": {
  "kernelspec": {
   "display_name": "Python 3",
   "language": "python",
   "name": "python3"
  },
  "language_info": {
   "codemirror_mode": {
    "name": "ipython",
    "version": 3
   },
   "file_extension": ".py",
   "mimetype": "text/x-python",
   "name": "python",
   "nbconvert_exporter": "python",
   "pygments_lexer": "ipython3",
   "version": "3.12.3"
  }
 },
 "nbformat": 4,
 "nbformat_minor": 2
}
